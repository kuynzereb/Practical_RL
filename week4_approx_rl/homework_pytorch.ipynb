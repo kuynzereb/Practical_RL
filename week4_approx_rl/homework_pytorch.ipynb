{
 "cells": [
  {
   "cell_type": "markdown",
   "metadata": {
    "colab_type": "text",
    "id": "PM3qIbc67gfa"
   },
   "source": [
    "# Deep Q-Network implementation\n",
    "\n",
    "This notebook shamelessly demands you to implement a DQN - an approximate q-learning algorithm with experience replay and target networks - and see if it works any better this way."
   ]
  },
  {
   "cell_type": "code",
   "execution_count": 0,
   "metadata": {
    "colab": {
     "autoexec": {
      "startup": false,
      "wait_interval": 0
     },
     "output_extras": [
      {}
     ]
    },
    "colab_type": "code",
    "id": "L31vIWMs7gfb",
    "outputId": "2f004102-81d7-4ff9-8552-4db4b29efccc"
   },
   "outputs": [
    {
     "name": "stdout",
     "output_type": "stream",
     "text": [
      "Starting virtual X frame buffer: Xvfb../xvfb: line 8: start-stop-daemon: command not found\n",
      ".\n",
      "env: DISPLAY=:1\n"
     ]
    }
   ],
   "source": [
    "#XVFB will be launched if you run on a server\n",
    "import os\n",
    "if type(os.environ.get(\"DISPLAY\")) is not str or len(os.environ.get(\"DISPLAY\"))==0:\n",
    "    !bash ../xvfb start\n",
    "    %env DISPLAY=:1"
   ]
  },
  {
   "cell_type": "markdown",
   "metadata": {
    "colab_type": "text",
    "id": "XxUxEsLY7gfi"
   },
   "source": [
    "__Frameworks__ - we'll accept this homework in any deep learning framework. This particular notebook was designed for tensorflow, but you will find it easy to adapt it to almost any python-based deep learning framework."
   ]
  },
  {
   "cell_type": "code",
   "execution_count": 29,
   "metadata": {
    "colab": {
     "autoexec": {
      "startup": false,
      "wait_interval": 0
     }
    },
    "colab_type": "code",
    "collapsed": true,
    "id": "M9SNPgzx7gfj"
   },
   "outputs": [],
   "source": [
    "import gym\n",
    "import numpy as np\n",
    "import pandas as pd\n",
    "import matplotlib.pyplot as plt\n",
    "%matplotlib inline"
   ]
  },
  {
   "cell_type": "markdown",
   "metadata": {
    "colab_type": "text",
    "id": "jJJY96j17gfm"
   },
   "source": [
    "### Let's play some old videogames\n",
    "![img](https://s17.postimg.org/y9xcab74f/nerd.png)\n",
    "\n",
    "This time we're gonna apply approximate q-learning to an atari game called Breakout. It's not the hardest thing out there, but it's definitely way more complex than anything we tried before.\n"
   ]
  },
  {
   "cell_type": "markdown",
   "metadata": {
    "colab_type": "text",
    "id": "hj289dxn7gfn"
   },
   "source": [
    "### Processing game image \n",
    "\n",
    "Raw atari images are large, 210x160x3 by default. However, we don't need that level of detail in order to learn them.\n",
    "\n",
    "We can thus save a lot of time by preprocessing game image, including\n",
    "* Resizing to a smaller shape, 64 x 64\n",
    "* Converting to grayscale\n",
    "* Cropping irrelevant image parts (top & bottom)"
   ]
  },
  {
   "cell_type": "code",
   "execution_count": 0,
   "metadata": {
    "colab": {
     "autoexec": {
      "startup": false,
      "wait_interval": 0
     }
    },
    "colab_type": "code",
    "collapsed": true,
    "id": "BE2MvE9o7gf4"
   },
   "outputs": [],
   "source": [
    "from gym.core import ObservationWrapper\n",
    "from gym.spaces import Box\n",
    "\n",
    "from skimage.transform import resize\n",
    "from skimage.color import rgb2gray\n",
    "\n",
    "class PreprocessAtari(ObservationWrapper):\n",
    "    def __init__(self, env):\n",
    "        \"\"\"A gym wrapper that crops, scales image into the desired shapes and optionally grayscales it.\"\"\"\n",
    "        ObservationWrapper.__init__(self,env)\n",
    "        \n",
    "        self.img_size = (1, 64, 64)\n",
    "        self.observation_space = Box(0.0, 1.0, self.img_size)\n",
    "\n",
    "\n",
    "    def observation(self, img):\n",
    "        \"\"\"what happens to each observation\"\"\"\n",
    "        \n",
    "        # Here's what you need to do:\n",
    "        #  * crop image, remove irrelevant parts\n",
    "        #  * resize image to self.img_size \n",
    "        #     (use imresize imported above or any library you want,\n",
    "        #      e.g. opencv, skimage, PIL, keras)\n",
    "        #  * cast image to grayscale\n",
    "        #  * convert image pixels to (0,1) range, float32 type\n",
    "        img = resize(rgb2gray(img)[57:195, 3:157], (self.img_size[1], self.img_size[2]), mode='reflect')\n",
    "        img /= 0.602\n",
    "        \n",
    "        return img.astype('float32')[None]\n"
   ]
  },
  {
   "cell_type": "code",
   "execution_count": 3,
   "metadata": {
    "colab": {
     "autoexec": {
      "startup": false,
      "wait_interval": 0
     },
     "base_uri": "https://localhost:8080/",
     "height": 314,
     "output_extras": [
      {
       "item_id": 1
      },
      {
       "item_id": 2
      }
     ]
    },
    "colab_type": "code",
    "executionInfo": {
     "elapsed": 802,
     "status": "ok",
     "timestamp": 1521276396497,
     "user": {
      "displayName": "Вадим Березнюк",
      "photoUrl": "https://lh3.googleusercontent.com/a/default-user=s128",
      "userId": "103566387676130664775"
     },
     "user_tz": -180
    },
    "id": "wFL0oSFt7gf7",
    "outputId": "9171684b-50ac-4313-c6a8-edf9405edb85"
   },
   "outputs": [
    {
     "name": "stdout",
     "output_type": "stream",
     "text": [
      "\u001b[33mWARN: gym.spaces.Box autodetected dtype as <class 'numpy.float32'>. Please provide explicit dtype.\u001b[0m\n",
      "Formal tests seem fine. Here's an example of what you'll get.\n"
     ]
    },
    {
     "data": {
      "image/png": "iVBORw0KGgoAAAANSUhEUgAAAPoAAAEHCAYAAACHl1tOAAAABHNCSVQICAgIfAhkiAAAAAlwSFlz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\n0M0K4KCbFcBBNyuAg25WAAfdrAD/B2oQ7u8SWP2vAAAAAElFTkSuQmCC\n",
      "text/plain": [
       "<matplotlib.figure.Figure at 0x7fbb6f54aeb8>"
      ]
     },
     "metadata": {
      "tags": []
     },
     "output_type": "display_data"
    }
   ],
   "source": [
    "#spawn game instance for tests\n",
    "env = gym.make(\"BreakoutDeterministic-v0\") #create raw env\n",
    "env = PreprocessAtari(env)\n",
    "\n",
    "observation_shape = env.observation_space.shape\n",
    "n_actions = env.action_space.n\n",
    "\n",
    "env.reset()\n",
    "obs, _, _, _ = env.step(env.action_space.sample())\n",
    "\n",
    "\n",
    "#test observation\n",
    "assert obs.ndim == 3, \"observation must be [batch, time, channels] even if there's just one channel\"\n",
    "assert obs.shape == observation_shape\n",
    "assert obs.dtype == 'float32'\n",
    "assert len(np.unique(obs))>2, \"your image must not be binary\"\n",
    "assert 0 <= np.min(obs) and np.max(obs) <=1, \"convert image pixels to (0,1) range\"\n",
    "\n",
    "print(\"Formal tests seem fine. Here's an example of what you'll get.\")\n",
    "\n",
    "plt.title(\"what your network gonna see\")\n",
    "plt.grid(False)\n",
    "plt.imshow(obs[0, :, :],interpolation='none',cmap='gray');"
   ]
  },
  {
   "cell_type": "markdown",
   "metadata": {
    "colab_type": "text",
    "id": "oAkUE5Et7gf_"
   },
   "source": [
    "### Frame buffer\n",
    "\n",
    "Our agent can only process one observation at a time, so we gotta make sure it contains enough information to fing optimal actions. For instance, agent has to react to moving objects so he must be able to measure object's velocity.\n",
    "\n",
    "To do so, we introduce a buffer that stores 4 last images. This time everything is pre-implemented for you."
   ]
  },
  {
   "cell_type": "code",
   "execution_count": 4,
   "metadata": {
    "colab": {
     "autoexec": {
      "startup": false,
      "wait_interval": 0
     },
     "base_uri": "https://localhost:8080/",
     "height": 51,
     "output_extras": [
      {
       "item_id": 1
      }
     ]
    },
    "colab_type": "code",
    "executionInfo": {
     "elapsed": 594,
     "status": "ok",
     "timestamp": 1521276400415,
     "user": {
      "displayName": "Вадим Березнюк",
      "photoUrl": "https://lh3.googleusercontent.com/a/default-user=s128",
      "userId": "103566387676130664775"
     },
     "user_tz": -180
    },
    "id": "dGZh7OWK7gf_",
    "outputId": "f49d9331-6f19-4815-dbcd-b1d0ab17e53e"
   },
   "outputs": [
    {
     "name": "stdout",
     "output_type": "stream",
     "text": [
      "\u001b[33mWARN: gym.spaces.Box autodetected dtype as <class 'numpy.float32'>. Please provide explicit dtype.\u001b[0m\n",
      "\u001b[33mWARN: gym.spaces.Box autodetected dtype as <class 'numpy.float32'>. Please provide explicit dtype.\u001b[0m\n"
     ]
    }
   ],
   "source": [
    "from framebuffer import FrameBuffer\n",
    "def make_env():\n",
    "    env = gym.make(\"BreakoutDeterministic-v4\")\n",
    "    env = PreprocessAtari(env)\n",
    "    env = FrameBuffer(env, n_frames=4, dim_order='pytorch')\n",
    "    return env\n",
    "\n",
    "env = make_env()\n",
    "env.reset()\n",
    "n_actions = env.action_space.n\n",
    "state_dim = env.observation_space.shape"
   ]
  },
  {
   "cell_type": "code",
   "execution_count": 10,
   "metadata": {
    "colab": {
     "autoexec": {
      "startup": false,
      "wait_interval": 0
     },
     "base_uri": "https://localhost:8080/",
     "height": 1196,
     "output_extras": [
      {
       "item_id": 1
      },
      {
       "item_id": 2
      }
     ]
    },
    "colab_type": "code",
    "executionInfo": {
     "elapsed": 1041,
     "status": "ok",
     "timestamp": 1521199887780,
     "user": {
      "displayName": "Вадим Березнюк",
      "photoUrl": "https://lh3.googleusercontent.com/a/default-user=s128",
      "userId": "103566387676130664775"
     },
     "user_tz": -180
    },
    "id": "eumXm1Lu7ggD",
    "outputId": "9620a31e-6bb1-41ab-a710-c66d2e44b4a3"
   },
   "outputs": [
    {
     "data": {
      "image/png": "iVBORw0KGgoAAAANSUhEUgAAAMsAAAEHCAYAAAAAprJIAAAABHNCSVQICAgIfAhkiAAAAAlwSFlz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\nAElFTkSuQmCC\n",
      "text/plain": [
       "<matplotlib.figure.Figure at 0x7fc749a88a20>"
      ]
     },
     "metadata": {
      "tags": []
     },
     "output_type": "display_data"
    },
    {
     "data": {
      "image/png": "iVBORw0KGgoAAAANSUhEUgAAAQUAAAOUCAYAAACrMyZeAAAABHNCSVQICAgIfAhkiAAAAAlwSFlz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\n",
      "text/plain": [
       "<matplotlib.figure.Figure at 0x7fc749a17780>"
      ]
     },
     "metadata": {
      "tags": []
     },
     "output_type": "display_data"
    }
   ],
   "source": [
    "for _ in range(50):\n",
    "    obs, _, _, _ = env.step(env.action_space.sample())\n",
    "\n",
    "\n",
    "plt.title(\"Game image\")\n",
    "plt.grid(False)\n",
    "plt.imshow(env.render(\"rgb_array\"))\n",
    "plt.show()\n",
    "plt.figure(figsize=(4, 16))\n",
    "plt.title(\"Agent observation (4 frames top to bottom)\")\n",
    "plt.grid(False)\n",
    "plt.imshow(obs.reshape([-1, state_dim[2]]), cmap='gray');"
   ]
  },
  {
   "cell_type": "markdown",
   "metadata": {
    "colab_type": "text",
    "id": "Sv347wEW7ggI"
   },
   "source": [
    "### Building a network\n",
    "\n",
    "We now need to build a neural network that can map images to state q-values. This network will be called on every agent's step so it better not be resnet-152 unless you have an array of GPUs. Instead, you can use strided convolutions with a small number of features to save time and memory.\n",
    "\n",
    "You can build any architecture you want, but for reference, here's something that will more or less work:"
   ]
  },
  {
   "cell_type": "markdown",
   "metadata": {
    "colab_type": "text",
    "id": "6ZhJ42Ut7ggJ"
   },
   "source": [
    "![img](https://s17.postimg.org/815l39kan/dqn_arch.png)"
   ]
  },
  {
   "cell_type": "code",
   "execution_count": 30,
   "metadata": {
    "colab": {
     "autoexec": {
      "startup": false,
      "wait_interval": 0
     }
    },
    "colab_type": "code",
    "collapsed": true,
    "id": "jkgyl45U7ggM"
   },
   "outputs": [],
   "source": [
    "import torch, torch.nn as nn\n",
    "import torch.nn.functional as F\n",
    "from torch.autograd import Variable"
   ]
  },
  {
   "cell_type": "code",
   "execution_count": 0,
   "metadata": {
    "colab": {
     "autoexec": {
      "startup": false,
      "wait_interval": 0
     }
    },
    "colab_type": "code",
    "collapsed": true,
    "id": "Dw1IXqyW7ggW"
   },
   "outputs": [],
   "source": [
    "def new_size(d):\n",
    "    return (d + 1) // 2\n",
    "\n",
    "class Flatten(nn.Module):\n",
    "    def forward(self, input):\n",
    "        return input.view(input.size(0), -1)\n",
    "\n",
    "class DQNAgent(nn.Module):\n",
    "    def __init__(self, state_shape, n_actions, epsilon=0):\n",
    "        \"\"\"A simple DQN agent\"\"\"\n",
    "        nn.Module.__init__(self)\n",
    "        self.epsilon = epsilon\n",
    "        self.n_actions = n_actions\n",
    "        img_c, img_w, img_h = state_shape\n",
    "        \n",
    "        self.net = nn.Sequential()\n",
    "        \n",
    "        self.net.add_module('conv_1', nn.Conv2d(in_channels=img_c, out_channels=16, kernel_size=3, stride=2, padding=1))\n",
    "        self.net.add_module('conv_1_relu', nn.ReLU())\n",
    "        self.net.add_module('conv_2', nn.Conv2d(in_channels=16, out_channels=32, kernel_size=3, stride=2, padding=1))\n",
    "        self.net.add_module('conv_2_relu', nn.ReLU())\n",
    "        self.net.add_module('conv_3', nn.Conv2d(in_channels=32, out_channels=64, kernel_size=3, stride=2, padding=1))\n",
    "        self.net.add_module('conv_3_relu', nn.ReLU())\n",
    "        \n",
    "        final_w = new_size(new_size(new_size(img_w)))\n",
    "        final_h = new_size(new_size(new_size(img_h)))\n",
    "        \n",
    "        self.net.add_module('flatten', Flatten())\n",
    "        self.net.add_module('dense', nn.Linear(64 * final_h * final_w, 256))\n",
    "        self.net.add_module('dense_relu', nn.ReLU())\n",
    "        self.net.add_module('qvalues', nn.Linear(256, n_actions))\n",
    "        \n",
    "        self.net.cuda()\n",
    "            \n",
    "\n",
    "    def forward(self, state_t):\n",
    "        \"\"\"\n",
    "        takes agent's observation (Variable), returns qvalues (Variable)\n",
    "        :param state_t: a batch of 4-frame buffers, shape = [batch_size, 4, h, w]\n",
    "        Hint: if you're running on GPU, use state_t.cuda() right here.\n",
    "        \"\"\"\n",
    "        \n",
    "        # Use your network to compute qvalues for given state\n",
    "        qvalues = self.net(state_t.cuda())\n",
    "        \n",
    "        assert isinstance(qvalues, Variable) and qvalues.requires_grad, \"qvalues must be a torch variable with grad\"\n",
    "        assert len(qvalues.shape) == 2 and qvalues.shape[0] == state_t.shape[0] and qvalues.shape[1] == n_actions\n",
    "        \n",
    "        return qvalues\n",
    "    \n",
    "    def get_qvalues(self, states):\n",
    "        \"\"\"\n",
    "        like forward, but works on numpy arrays, not Variables\n",
    "        \"\"\"\n",
    "        states = Variable(torch.FloatTensor(np.asarray(states)))\n",
    "        qvalues = self.forward(states)\n",
    "        return qvalues.data.cpu().numpy()\n",
    "    \n",
    "    def sample_actions(self, qvalues):\n",
    "        \"\"\"pick actions given qvalues. Uses epsilon-greedy exploration strategy. \"\"\"\n",
    "        epsilon = self.epsilon\n",
    "        batch_size, n_actions = qvalues.shape\n",
    "        \n",
    "        random_actions = np.random.choice(n_actions, size=batch_size)\n",
    "        best_actions = qvalues.argmax(axis=-1)\n",
    "        \n",
    "        should_explore = np.random.choice([0, 1], batch_size, p = [1-epsilon, epsilon])\n",
    "        return np.where(should_explore, random_actions, best_actions)"
   ]
  },
  {
   "cell_type": "code",
   "execution_count": 0,
   "metadata": {
    "colab": {
     "autoexec": {
      "startup": false,
      "wait_interval": 0
     }
    },
    "colab_type": "code",
    "collapsed": true,
    "id": "CBqxpGIYkVKo"
   },
   "outputs": [],
   "source": [
    "agent = DQNAgent(state_dim, n_actions, epsilon=0.5)"
   ]
  },
  {
   "cell_type": "markdown",
   "metadata": {
    "colab_type": "text",
    "id": "1aE25g517ggc"
   },
   "source": [
    "Now let's try out our agent to see if it raises any errors."
   ]
  },
  {
   "cell_type": "code",
   "execution_count": 0,
   "metadata": {
    "colab": {
     "autoexec": {
      "startup": false,
      "wait_interval": 0
     }
    },
    "colab_type": "code",
    "collapsed": true,
    "id": "_dE3vzXB7ggc"
   },
   "outputs": [],
   "source": [
    "def evaluate(env, agent, n_games=1, greedy=False, t_max=10000):\n",
    "    \"\"\" Plays n_games full games. If greedy, picks actions as argmax(qvalues). Returns mean reward. \"\"\"\n",
    "    rewards = []\n",
    "    for _ in range(n_games):\n",
    "        s = env.reset()\n",
    "        reward = 0\n",
    "        for _ in range(t_max):\n",
    "            qvalues = agent.get_qvalues([s])\n",
    "            action = qvalues.argmax(axis=-1)[0] if greedy else agent.sample_actions(qvalues)[0]\n",
    "            s, r, done, _ = env.step(action)\n",
    "            reward += r\n",
    "            if done: break\n",
    "                \n",
    "        rewards.append(reward)\n",
    "    return np.mean(rewards)"
   ]
  },
  {
   "cell_type": "code",
   "execution_count": 14,
   "metadata": {
    "colab": {
     "autoexec": {
      "startup": false,
      "wait_interval": 0
     },
     "base_uri": "https://localhost:8080/",
     "height": 34,
     "output_extras": [
      {
       "item_id": 1
      }
     ]
    },
    "colab_type": "code",
    "executionInfo": {
     "elapsed": 3103,
     "status": "ok",
     "timestamp": 1521122918511,
     "user": {
      "displayName": "Вадим Березнюк",
      "photoUrl": "https://lh3.googleusercontent.com/a/default-user=s128",
      "userId": "103566387676130664775"
     },
     "user_tz": -180
    },
    "id": "GdCJAqbcpTIW",
    "outputId": "7d75f8f5-698f-4275-fd87-9707499b7c76"
   },
   "outputs": [
    {
     "data": {
      "text/plain": [
       "3.0"
      ]
     },
     "execution_count": 14,
     "metadata": {
      "tags": []
     },
     "output_type": "execute_result"
    }
   ],
   "source": [
    "evaluate(env, agent, n_games=1)"
   ]
  },
  {
   "cell_type": "markdown",
   "metadata": {
    "colab_type": "text",
    "id": "TaPvvpwE7ggf"
   },
   "source": [
    "### Experience replay\n",
    "For this assignment, we provide you with experience replay buffer. If you implemented experience replay buffer in last week's assignment, you can copy-paste it here __to get 2 bonus points__.\n",
    "\n",
    "![img](https://s17.postimg.org/ms4zvqj4v/exp_replay.png)"
   ]
  },
  {
   "cell_type": "markdown",
   "metadata": {
    "colab_type": "text",
    "id": "8fSq86Ta7ggf"
   },
   "source": [
    "#### The interface is fairly simple:\n",
    "* `exp_replay.add(obs, act, rw, next_obs, done)` - saves (s,a,r,s',done) tuple into the buffer\n",
    "* `exp_replay.sample(batch_size)` - returns observations, actions, rewards, next_observations and is_done for `batch_size` random samples.\n",
    "* `len(exp_replay)` - returns number of elements stored in replay buffer."
   ]
  },
  {
   "cell_type": "code",
   "execution_count": 0,
   "metadata": {
    "colab": {
     "autoexec": {
      "startup": false,
      "wait_interval": 0
     }
    },
    "colab_type": "code",
    "collapsed": true,
    "id": "US1rP7Wu7ggg"
   },
   "outputs": [],
   "source": [
    "from replay_buffer import ReplayBuffer\n",
    "exp_replay = ReplayBuffer(10)\n",
    "\n",
    "for _ in range(30):\n",
    "    exp_replay.add(env.reset(), env.action_space.sample(), 1.0, env.reset(), done=False)\n",
    "\n",
    "obs_batch, act_batch, reward_batch, next_obs_batch, is_done_batch = exp_replay.sample(5)\n",
    "\n",
    "assert len(exp_replay) == 10, \"experience replay size should be 10 because that's what maximum capacity is\""
   ]
  },
  {
   "cell_type": "code",
   "execution_count": 0,
   "metadata": {
    "colab": {
     "autoexec": {
      "startup": false,
      "wait_interval": 0
     }
    },
    "colab_type": "code",
    "collapsed": true,
    "id": "ebCFsqZ67ggi"
   },
   "outputs": [],
   "source": [
    "def play_and_record(agent, env, exp_replay, n_steps=1):\n",
    "    \"\"\"\n",
    "    Play the game for exactly n steps, record every (s,a,r,s', done) to replay buffer. \n",
    "    Whenever game ends, add record with done=True and reset the game.\n",
    "    It is guaranteed that env has done=False when passed to this function.\n",
    "    \n",
    "    PLEASE DO NOT RESET ENV UNLESS IT IS \"DONE\"\n",
    "    \n",
    "    :returns: return sum of rewards over time\n",
    "    \"\"\"\n"
    "    \n",
    "    rewards = []\n",
    "    \n",
    "    for i in range(n_steps):\n",
    "        s = env.framebuffer\n",
    "        qvalues = agent.get_qvalues([s])\n",
    "        a = agent.sample_actions(qvalues)[0]\n",
    "        next_s, r, done, _ = env.step(a)\n",
    "        exp_replay.add(s, a, r, next_s, done)\n",
    "        rewards.append(r)\n",
    "        \n",
    "        if done:\n",
    "            env.reset()\n",
    "    \n",
    "    return np.sum(rewards)"
   ]
  },
  {
   "cell_type": "code",
   "execution_count": 17,
   "metadata": {
    "colab": {
     "autoexec": {
      "startup": false,
      "wait_interval": 0
     },
     "base_uri": "https://localhost:8080/",
     "height": 34,
     "output_extras": [
      {
       "item_id": 1
      }
     ]
    },
    "colab_type": "code",
    "executionInfo": {
     "elapsed": 45451,
     "status": "ok",
     "timestamp": 1521122981198,
     "user": {
      "displayName": "Вадим Березнюк",
      "photoUrl": "https://lh3.googleusercontent.com/a/default-user=s128",
      "userId": "103566387676130664775"
     },
     "user_tz": -180
    },
    "id": "MEW7dXbH7ggl",
    "outputId": "29808582-864b-43c6-8b83-c70c6e436eac"
   },
   "outputs": [
    {
     "name": "stdout",
     "output_type": "stream",
     "text": [
      "Well done!\n"
     ]
    }
   ],
   "source": [
    "# testing your code. This may take a minute...\n",
    "exp_replay = ReplayBuffer(20000)\n",
    "\n",
    "play_and_record(agent, env, exp_replay, n_steps=10000)\n",
    "\n",
    "# if you're using your own experience replay buffer, some of those tests may need correction. \n",
    "# just make sure you know what your code does\n",
    "assert len(exp_replay) == 10000, \"play_and_record should have added exactly 10000 steps, \"\\\n",
    "                                 \"but instead added %i\" % len(exp_replay)\n",
    "is_dones = list(zip(*exp_replay._storage))[-1]\n",
    "\n",
    "assert 0 < np.mean(is_dones) < 0.1, \"Please make sure you restart the game whenever it is 'done' and record the is_done correctly into the buffer.\"\\\n",
    "                                    \"Got %f is_done rate over %i steps. [If you think it's your tough luck, just re-run the test]\"%(np.mean(is_dones), len(exp_replay))\n",
    "    \n",
    "for _ in range(100):\n",
    "    obs_batch, act_batch, reward_batch, next_obs_batch, is_done_batch = exp_replay.sample(10)\n",
    "    assert obs_batch.shape == next_obs_batch.shape == (10,) + state_dim\n",
    "    assert act_batch.shape == (10,), \"actions batch should have shape (10,) but is instead %s\"%str(act_batch.shape)\n",
    "    assert reward_batch.shape == (10,), \"rewards batch should have shape (10,) but is instead %s\"%str(reward_batch.shape)\n",
    "    assert is_done_batch.shape == (10,), \"is_done batch should have shape (10,) but is instead %s\"%str(is_done_batch.shape)\n",
    "    assert [int(i) in (0,1) for i in is_dones], \"is_done should be strictly True or False\"\n",
    "    assert [0 <= a <= n_actions for a in act_batch], \"actions should be within [0, n_actions]\"\n",
    "    \n",
    "print(\"Well done!\")"
   ]
  },
  {
   "cell_type": "markdown",
   "metadata": {
    "colab_type": "text",
    "id": "tt693oCq7ggo"
   },
   "source": [
    "### Target networks\n",
    "\n",
    "We also employ the so called \"target network\" - a copy of neural network weights to be used for reference Q-values:\n",
    "\n",
    "The network itself is an exact copy of agent network, but it's parameters are not trained. Instead, they are moved here from agent's actual network every so often.\n",
    "\n",
    "$$ Q_{reference}(s,a) = r + \\gamma \\cdot \\max _{a'} Q_{target}(s',a') $$\n",
    "\n",
    "![img](https://s17.postimg.org/x3hcoi5q7/taget_net.png)\n",
    "\n"
   ]
  },
  {
   "cell_type": "code",
   "execution_count": 0,
   "metadata": {
    "colab": {
     "autoexec": {
      "startup": false,
      "wait_interval": 0
     }
    },
    "colab_type": "code",
    "collapsed": true,
    "id": "9Mt8Z4Ot7ggp"
   },
   "outputs": [],
   "source": [
    "target_network = DQNAgent(state_dim, n_actions)"
   ]
  },
  {
   "cell_type": "code",
   "execution_count": 0,
   "metadata": {
    "colab": {
     "autoexec": {
      "startup": false,
      "wait_interval": 0
     }
    },
    "colab_type": "code",
    "collapsed": true,
    "id": "56g59Q0Z7ggr"
   },
   "outputs": [],
   "source": [
    "# This is how you can load weights from agent into target network\n",
    "target_network.load_state_dict(agent.state_dict())"
   ]
  },
  {
   "cell_type": "markdown",
   "metadata": {
    "colab_type": "text",
    "id": "UQr8Xw_B7ggt"
   },
   "source": [
    "### Learning with... Q-learning\n",
    "Here we write a function similar to `agent.update` from tabular q-learning."
   ]
  },
  {
   "cell_type": "markdown",
   "metadata": {
    "colab_type": "text",
    "id": "E99jJaWi7ggu"
   },
   "source": [
    "Compute Q-learning TD error:\n",
    "\n",
    "$$ L = { 1 \\over N} \\sum_i [ Q_{\\theta}(s,a) - Q_{reference}(s,a) ] ^2 $$\n",
    "\n",
    "With Q-reference defined as\n",
    "\n",
    "$$ Q_{reference}(s,a) = r(s,a) + \\gamma \\cdot max_{a'} Q_{target}(s', a') $$\n",
    "\n",
    "Where\n",
    "* $Q_{target}(s',a')$ denotes q-value of next state and next action predicted by __target_network__\n",
    "* $s, a, r, s'$ are current state, action, reward and next state respectively\n",
    "* $\\gamma$ is a discount factor defined two cells above.\n",
    "\n",
    "\n",
    "__Note 1:__ there's an example input below. Feel free to experiment with it before you write the function.\n",
    "__Note 2:__ compute_td_loss is a source of 99% of bugs in this homework. If reward doesn't improve, it often helps to go through it line by line [with a rubber duck](https://rubberduckdebugging.com/)."
   ]
  },
  {
   "cell_type": "code",
   "execution_count": 0,
   "metadata": {
    "colab": {
     "autoexec": {
      "startup": false,
      "wait_interval": 0
     }
    },
    "colab_type": "code",
    "collapsed": true,
    "id": "bko7vq2B7ggv"
   },
   "outputs": [],
   "source": [
    "def compute_td_loss(states, actions, rewards, next_states, is_done, gamma = 0.99, check_shapes = False):\n",
    "    \"\"\" Compute td loss using torch operations only. Use the formula above. \"\"\"\n",
    "    states = Variable(torch.FloatTensor(states))    # shape: [batch_size, c, h, w]\n",
    "    actions = Variable(torch.LongTensor(actions)).cuda()  # shape: [batch_size]\n",
    "    rewards = Variable(torch.FloatTensor(rewards)).cuda()  # shape: [batch_size]\n",
    "    next_states = Variable(torch.FloatTensor(next_states)) # shape: [batch_size, c, h, w]\n",
    "    is_done = Variable(torch.FloatTensor(is_done.astype('float32'))).cuda()  # shape: [batch_size]\n",
    "    is_not_done = 1. - is_done\n",
    "    \n",
    "    #get q-values for all actions in current states\n",
    "    predicted_qvalues = agent.forward(states)\n",
    "    \n",
    "    # compute q-values for all actions in next states\n",
    "    predicted_next_qvalues = target_network.forward(next_states)\n",
    "    \n",
    "    #select q-values for chosen actions\n",
    "    predicted_qvalues_for_actions = predicted_qvalues[range(len(actions)), actions]\n",
    "    \n",
    "    # compute V*(next_states) using predicted next q-values\n",
    "    next_state_values = predicted_next_qvalues.max(1)[0]\n",
    "    \n",
    "    assert next_state_values.dim() == 1 and next_state_values.shape[0] == states.shape[0], \"must predict one value per state\"\n",
    "\n",
    "    # compute \"target q-values\" for loss - it's what's inside square parentheses in the above formula.\n",
    "    # at the last state use the simplified formula: Q(s,a) = r(s,a) since s' doesn't exist\n",
    "    # you can multiply next state values by is_not_done to achieve this.\n",
    "    target_qvalues_for_actions = rewards + gamma * is_not_done * next_state_values\n",
    "    \n",
    "    #mean squared error loss to minimize\n",
    "    loss = torch.mean((predicted_qvalues_for_actions - target_qvalues_for_actions.detach()) ** 2)\n",
    "    \n",
    "    if check_shapes:\n",
    "        assert predicted_next_qvalues.data.dim() == 2, \"make sure you predicted q-values for all actions in next state\"\n",
    "        assert next_state_values.data.dim() == 1, \"make sure you computed V(s') as maximum over just the actions axis and not all axes\"\n",
    "        assert target_qvalues_for_actions.data.dim() == 1, \"there's something wrong with target q-values, they must be a vector\"\n",
    "    \n",
    "    return loss"
   ]
  },
  {
   "cell_type": "code",
   "execution_count": 0,
   "metadata": {
    "colab": {
     "autoexec": {
      "startup": false,
      "wait_interval": 0
     }
    },
    "colab_type": "code",
    "collapsed": true,
    "id": "TU3st7zW7ggz"
   },
   "outputs": [],
   "source": [
    "# sanity checks\n",
    "obs_batch, act_batch, reward_batch, next_obs_batch, is_done_batch = exp_replay.sample(10)\n",
    "\n",
    "loss = compute_td_loss(obs_batch, act_batch, reward_batch, next_obs_batch, is_done_batch, gamma=0.99,\n",
    "                       check_shapes=True)\n",
    "loss.backward()\n",
    "\n",
    "assert isinstance(loss, Variable) and tuple(loss.data.size()) == (1,), \"you must return scalar loss - mean over batch\"\n",
    "assert np.any(next(agent.parameters()).grad.data.cpu().numpy() != 0), \"loss must be differentiable w.r.t. network weights\""
   ]
  },
  {
   "cell_type": "markdown",
   "metadata": {
    "colab_type": "text",
    "id": "7E01lcbG7gg3"
   },
   "source": [
    "### Main loop\n",
    "\n",
    "It's time to put everything together and see if it learns anything."
   ]
  },
  {
   "cell_type": "code",
   "execution_count": 15,
   "metadata": {
    "colab": {
     "autoexec": {
      "startup": false,
      "wait_interval": 0
     },
     "base_uri": "https://localhost:8080/",
     "height": 51,
     "output_extras": [
      {
       "item_id": 1
      }
     ]
    },
    "colab_type": "code",
    "executionInfo": {
     "elapsed": 1342,
     "status": "ok",
     "timestamp": 1521136133558,
     "user": {
      "displayName": "Вадим Березнюк",
      "photoUrl": "https://lh3.googleusercontent.com/a/default-user=s128",
      "userId": "103566387676130664775"
     },
     "user_tz": -180
    },
    "id": "zPsl_36U7gg4",
    "outputId": "32f45923-2b37-481e-d069-d930341f74d9"
   },
   "outputs": [
    {
     "name": "stdout",
     "output_type": "stream",
     "text": [
      "\u001b[33mWARN: gym.spaces.Box autodetected dtype as <class 'numpy.float32'>. Please provide explicit dtype.\u001b[0m\n",
      "\u001b[33mWARN: gym.spaces.Box autodetected dtype as <class 'numpy.float32'>. Please provide explicit dtype.\u001b[0m\n"
     ]
    }
   ],
   "source": [
    "from tqdm import trange\n",
    "from IPython.display import clear_output\n",
    "import matplotlib.pyplot as plt\n",
    "from pandas import ewma\n",
    "%matplotlib inline\n",
    "\n",
    "env = make_env()\n",
    "env.reset()\n",
    "n_actions = env.action_space.n\n",
    "state_dim = env.observation_space.shape\n",
    "\n",
    "agent = DQNAgent(state_dim, n_actions, epsilon=0.8)\n",
    "target_network = DQNAgent(state_dim, n_actions)\n",
    "target_network.load_state_dict(agent.state_dict())\n",
    "\n",
    "mean_rw_history = []\n",
    "td_loss_history = []"
   ]
  },
  {
   "cell_type": "code",
   "execution_count": 0,
   "metadata": {
    "colab": {
     "autoexec": {
      "startup": false,
      "wait_interval": 0
     }
    },
    "colab_type": "code",
    "collapsed": true,
    "id": "_ASJ9sRJ7gg6"
   },
   "outputs": [],
   "source": [
    "exp_replay = ReplayBuffer(10**5)\n",
    "play_and_record(agent, env, exp_replay, n_steps=10000);"
   ]
  },
  {
   "cell_type": "code",
   "execution_count": 0,
   "metadata": {
    "colab": {
     "autoexec": {
      "startup": false,
      "wait_interval": 0
     }
    },
    "colab_type": "code",
    "collapsed": true,
    "id": "6UGgLHYj7gg-"
   },
   "outputs": [],
   "source": [
    "opt = torch.optim.Adam(agent.parameters(), lr=0.001)"
   ]
  },
  {
   "cell_type": "code",
   "execution_count": 43,
   "metadata": {
    "colab": {
     "autoexec": {
      "startup": false,
      "wait_interval": 0
     },
     "base_uri": "https://localhost:8080/",
     "height": 314,
     "output_extras": [
      {
       "item_id": 1
      },
      {
       "item_id": 2
      },
      {
       "item_id": 141
      }
     ]
    },
    "colab_type": "code",
    "executionInfo": {
     "elapsed": 37894,
     "status": "ok",
     "timestamp": 1521155766379,
     "user": {
      "displayName": "Вадим Березнюк",
      "photoUrl": "https://lh3.googleusercontent.com/a/default-user=s128",
      "userId": "103566387676130664775"
     },
     "user_tz": -180
    },
    "id": "d82BemRO7ghA",
    "outputId": "423bd394-1c31-4cfa-e4bc-1cb125bb390d"
   },
   "outputs": [
    {
     "name": "stdout",
     "output_type": "stream",
     "text": [
      "buffer size = 100000, epsilon = 0.10000\n"
     ]
    },
    {
     "data": {
      "image/png": "iVBORw0KGgoAAAANSUhEUgAAAr4AAAEHCAYAAABIqkVVAAAABHNCSVQICAgIfAhkiAAAAAlwSFlz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\n",
      "text/plain": [
       "<matplotlib.figure.Figure at 0x7fc705e47d30>"
      ]
     },
     "metadata": {
      "tags": []
     },
     "output_type": "display_data"
    },
    {
     "name": "stderr",
     "output_type": "stream",
     "text": [
      "100%|██████████| 20000/20000 [30:59<00:00, 10.76it/s]\n"
     ]
    }
   ],
   "source": [
    "from torch.nn.utils import clip_grad_norm\n",
    "\n",
    "grads = []\n",
    "\n",
    "for i in trange(2 * 10**4):\n",
    "    \n",
    "    # play\n",
    "    play_and_record(agent, env, exp_replay, 10)\n",
    "    \n",
    "    # train\n",
    "    obs_batch, act_batch, reward_batch, next_obs_batch, is_done_batch = exp_replay.sample(64)\n",
    "    \n",
    "    loss = compute_td_loss(obs_batch, act_batch, reward_batch, next_obs_batch, is_done_batch)\n",
    "    \n",
    "    opt.zero_grad()\n",
    "    loss.backward()\n",
    "    #clip_grad_norm(agent.net.parameters(), 100)\n",
    "    opt.step()\n",
    "    \n",
    "    td_loss_history.append(loss.data.cpu().numpy()[0])\n",
    "    \n",
    "    # adjust agent parameters\n",
    "    if i % 500 == 0:\n",
    "        agent.epsilon = max(agent.epsilon * 0.985, 0.1)\n",
    "        mean_rw_history.append(evaluate(make_env(), agent, n_games=3))\n",
    "        \n",
    "        #Load agent weights into target_network\n",
    "        target_network.net.load_state_dict(agent.net.state_dict())\n",
    "        \n",
    "        clear_output(True)\n",
    "        print(\"buffer size = %i, epsilon = %.5f\" % (len(exp_replay), agent.epsilon))\n",
    "        plt.figure(figsize=[12, 4])        \n",
    "        plt.subplot(1,2,1)\n",
    "        plt.title(\"mean reward per game\")\n",
    "        plt.plot(mean_rw_history)\n",
    "        plt.grid(False)\n",
    "\n",
    "        assert not np.isnan(td_loss_history[-1])\n",
    "        plt.subplot(1,2,2)\n",
    "        plt.title(\"TD loss history (moving average)\")\n",
    "        plt.plot(pd.ewma(np.array(td_loss_history), span=100, min_periods=100))\n",
    "        plt.grid(False)\n",
    "        plt.show() \n",
    "\n",
    "results = {\n",
    "    'model_state': agent.net.state_dict(),\n",
    "    'log': (mean_rw_history, td_loss_history)\n",
    "}\n"
   ]
  },
  {
   "cell_type": "code",
   "execution_count": 45,
   "metadata": {
    "colab": {
     "autoexec": {
      "startup": false,
      "wait_interval": 0
     },
     "base_uri": "https://localhost:8080/",
     "height": 34,
     "output_extras": [
      {
       "item_id": 1
      }
     ]
    },
    "colab_type": "code",
    "executionInfo": {
     "elapsed": 822,
     "status": "ok",
     "timestamp": 1521155845495,
     "user": {
      "displayName": "Вадим Березнюк",
      "photoUrl": "https://lh3.googleusercontent.com/a/default-user=s128",
      "userId": "103566387676130664775"
     },
     "user_tz": -180
    },
    "id": "pdOa1LKa7ghD",
    "outputId": "c365675d-b8be-4ffa-fb5c-5ac63af0441c"
   },
   "outputs": [
    {
     "name": "stdout",
     "output_type": "stream",
     "text": [
      "That's good enough for tutorial.\n"
     ]
    }
   ],
   "source": [
    "assert np.mean(mean_rw_history[-10:]) > 10.\n",
    "print(\"That's good enough for tutorial.\")"
   ]
  },
  {
   "cell_type": "code",
   "execution_count": 37,
   "metadata": {
    "collapsed": true
   },
   "outputs": [],
   "source": [
    "def show_results(log):\n",
    "    mean_rw_history = log[0]\n",
    "    td_loss_history = log[1]\n",
    "    \n",
    "    plt.figure(figsize=[12, 4])        \n",
    "    plt.subplot(1,2,1)\n",
    "    plt.title(\"mean reward per game\")\n",
    "    plt.plot(mean_rw_history)\n",
    "\n",
    "    plt.subplot(1,2,2)\n",
    "    plt.title(\"TD loss history (moving average)\")\n",
    "    plt.plot(pd.ewma(np.array(td_loss_history), span=100, min_periods=100))\n",
    "    plt.show() \n",
    "    \n",
    "    print('Mean mean reward last 10 games: {}'.format(np.mean(mean_rw_history[-10:])))"
   ]
  },
  {
   "cell_type": "code",
   "execution_count": 38,
   "metadata": {},
   "outputs": [
    {
     "name": "stderr",
     "output_type": "stream",
     "text": [
      "/home/bereznyuk/anaconda3/envs/rl/lib/python3.6/site-packages/ipykernel/__main__.py:12: FutureWarning: pd.ewm_mean is deprecated for ndarrays and will be removed in a future version\n"
     ]
    },
    {
     "data": {
      "image/png": "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\n",
      "text/plain": [
       "<matplotlib.figure.Figure at 0x7f45ba426828>"
      ]
     },
     "metadata": {},
     "output_type": "display_data"
    },
    {
     "name": "stdout",
     "output_type": "stream",
     "text": [
      "Mean mean reward last 10 games: 16.866666666666667\n"
     ]
    }
   ],
   "source": [
    "res = torch.load('results/results_1.dat', map_location=lambda x, y: x)\n",
    "show_results(res['log'])"
   ]
  },
  {
   "cell_type": "markdown",
   "metadata": {},
   "source": [
    "Я решил поднять эпсилон и ещё немного пообучать агента. Судя по всему, напрасно"
   ]
  },
  {
   "cell_type": "code",
   "execution_count": 39,
   "metadata": {},
   "outputs": [
    {
     "name": "stderr",
     "output_type": "stream",
     "text": [
      "/home/bereznyuk/anaconda3/envs/rl/lib/python3.6/site-packages/ipykernel/__main__.py:12: FutureWarning: pd.ewm_mean is deprecated for ndarrays and will be removed in a future version\n"
     ]
    },
    {
     "data": {
      "image/png": "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\n",
      "text/plain": [
       "<matplotlib.figure.Figure at 0x7f45b2e10940>"
      ]
     },
     "metadata": {},
     "output_type": "display_data"
    },
    {
     "name": "stdout",
     "output_type": "stream",
     "text": [
      "Mean mean reward last 10 games: 15.433333333333334\n"
     ]
    }
   ],
   "source": [
    "res = torch.load('results/results_2.dat', map_location=lambda x, y: x)\n",
    "show_results(res['log'])"
   ]
  },
  {
   "cell_type": "code",
   "execution_count": 40,
   "metadata": {},
   "outputs": [
    {
     "name": "stderr",
     "output_type": "stream",
     "text": [
      "/home/bereznyuk/anaconda3/envs/rl/lib/python3.6/site-packages/ipykernel/__main__.py:12: FutureWarning: pd.ewm_mean is deprecated for ndarrays and will be removed in a future version\n"
     ]
    },
    {
     "data": {
      "image/png": "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\n",
      "text/plain": [
       "<matplotlib.figure.Figure at 0x7f45b9eed630>"
      ]
     },
     "metadata": {},
     "output_type": "display_data"
    },
    {
     "name": "stdout",
     "output_type": "stream",
     "text": [
      "Mean mean reward last 10 games: 13.766666666666666\n"
     ]
    }
   ],
   "source": [
    "res = torch.load('results/results_3.dat', map_location=lambda x, y: x)\n",
    "show_results(res['log'])"
   ]
  },
  {
   "cell_type": "markdown",
   "metadata": {},
   "source": [
    "### Double DQN"
   ]
  },
  {
   "cell_type": "code",
   "execution_count": 10,
   "metadata": {
    "colab": {
     "autoexec": {
      "startup": false,
      "wait_interval": 0
     },
     "base_uri": "https://localhost:8080/",
     "height": 51,
     "output_extras": [
      {
       "item_id": 1
      }
     ]
    },
    "colab_type": "code",
    "executionInfo": {
     "elapsed": 2742,
     "status": "ok",
     "timestamp": 1521276433498,
     "user": {
      "displayName": "Вадим Березнюк",
      "photoUrl": "https://lh3.googleusercontent.com/a/default-user=s128",
      "userId": "103566387676130664775"
     },
     "user_tz": -180
    },
    "id": "3NgL-5cG5oC9",
    "outputId": "d4a741d4-ba00-4515-92c2-16635b685b50"
   },
   "outputs": [
    {
     "name": "stdout",
     "output_type": "stream",
     "text": [
      "\u001b[33mWARN: gym.spaces.Box autodetected dtype as <class 'numpy.float32'>. Please provide explicit dtype.\u001b[0m\n",
      "\u001b[33mWARN: gym.spaces.Box autodetected dtype as <class 'numpy.float32'>. Please provide explicit dtype.\u001b[0m\n"
     ]
    }
   ],
   "source": [
    "from tqdm import trange\n",
    "from IPython.display import clear_output\n",
    "import matplotlib.pyplot as plt\n",
    "from pandas import ewma\n",
    "%matplotlib inline\n",
    "\n",
    "env = make_env()\n",
    "env.reset()\n",
    "n_actions = env.action_space.n\n",
    "state_dim = env.observation_space.shape\n",
    "\n",
    "epsilon = 0.9\n",
    "agent = DQNAgent(state_dim, n_actions, epsilon=epsilon)\n",
    "target = DQNAgent(state_dim, n_actions, epsilon=epsilon)\n",
    "\n",
    "mean_rw_history = []\n",
    "td_loss_history = []"
   ]
  },
  {
   "cell_type": "code",
   "execution_count": 0,
   "metadata": {
    "colab": {
     "autoexec": {
      "startup": false,
      "wait_interval": 0
     }
    },
    "colab_type": "code",
    "collapsed": true,
    "id": "DZ5-bHmU5w2y"
   },
   "outputs": [],
   "source": [
    "exp_replay_agent = ReplayBuffer(10**5 // 2)\n",
    "play_and_record(agent, env, exp_replay_agent, n_steps=10000)\n",
    "\n",
    "exp_replay_target = ReplayBuffer(10**5 // 2)\n",
    "play_and_record(target, env, exp_replay_target, n_steps=10000);"
   ]
  },
  {
   "cell_type": "code",
   "execution_count": 0,
   "metadata": {
    "colab": {
     "autoexec": {
      "startup": false,
      "wait_interval": 0
     }
    },
    "colab_type": "code",
    "collapsed": true,
    "id": "t2_zUed73lFg"
   },
   "outputs": [],
   "source": [
    "def compute_td_loss_double(agent, target, states, actions, rewards, next_states, is_done, gamma = 0.99, check_shapes = False):\n",
    "    \"\"\" Compute td loss using torch operations only. Use the formula above. \"\"\"\n",
    "    states = Variable(torch.FloatTensor(states))    # shape: [batch_size, c, h, w]\n",
    "    actions = Variable(torch.LongTensor(actions)).cuda()  # shape: [batch_size]\n",
    "    rewards = Variable(torch.FloatTensor(rewards)).cuda()  # shape: [batch_size]\n",
    "    next_states = Variable(torch.FloatTensor(next_states)) # shape: [batch_size, c, h, w]\n",
    "    is_done = Variable(torch.FloatTensor(is_done.astype('float32'))).cuda()  # shape: [batch_size]\n",
    "    is_not_done = 1. - is_done\n",
    "    \n",
    "    #get q-values for all actions in current states\n",
    "    predicted_qvalues = agent.forward(states)\n",
    "    \n",
    "    # compute q-values for all actions in next states\n",
    "    predicted_next_qvalues = target.forward(next_states)\n",
    "    \n",
    "    #select q-values for chosen actions\n",
    "    predicted_qvalues_for_actions = predicted_qvalues[range(len(actions)), actions]\n",
    "    \n",
    "    # compute V*(next_states) using predicted next q-values\n",
    "    next_state_values = predicted_next_qvalues[range(len(actions)), predicted_qvalues.max(1)[1]]\n",
    "    \n",
    "    assert next_state_values.dim() == 1 and next_state_values.shape[0] == states.shape[0], \"must predict one value per state\"\n",
    "\n",
    "    # compute \"target q-values\" for loss - it's what's inside square parentheses in the above formula.\n",
    "    # at the last state use the simplified formula: Q(s,a) = r(s,a) since s' doesn't exist\n",
    "    # you can multiply next state values by is_not_done to achieve this.\n",
    "    target_qvalues_for_actions = rewards + gamma * is_not_done * next_state_values\n",
    "    \n",
    "    #mean squared error loss to minimize\n",
    "    loss = torch.mean((predicted_qvalues_for_actions - target_qvalues_for_actions.detach()) ** 2)\n",
    "    \n",
    "    if check_shapes:\n",
    "        assert predicted_next_qvalues.data.dim() == 2, \"make sure you predicted q-values for all actions in next state\"\n",
    "        assert next_state_values.data.dim() == 1, \"make sure you computed V(s') as maximum over just the actions axis and not all axes\"\n",
    "        assert target_qvalues_for_actions.data.dim() == 1, \"there's something wrong with target q-values, they must be a vector\"\n",
    "    \n",
    "    return loss"
   ]
  },
  {
   "cell_type": "code",
   "execution_count": 0,
   "metadata": {
    "colab": {
     "autoexec": {
      "startup": false,
      "wait_interval": 0
     }
    },
    "colab_type": "code",
    "collapsed": true,
    "id": "PDYiEMgS8Oym"
   },
   "outputs": [],
   "source": [
    "opt_agent = torch.optim.Adam(agent.parameters(), lr=0.001)\n",
    "opt_target = torch.optim.Adam(target.parameters(), lr=0.001)\n",
    "target.epsilon = 0"
   ]
  },
  {
   "cell_type": "code",
   "execution_count": 46,
   "metadata": {
    "colab": {
     "autoexec": {
      "startup": false,
      "wait_interval": 0
     },
     "base_uri": "https://localhost:8080/",
     "height": 331,
     "output_extras": [
      {
       "item_id": 1
      },
      {
       "item_id": 2
      },
      {
       "item_id": 112
      },
      {
       "item_id": 113
      }
     ]
    },
    "colab_type": "code",
    "executionInfo": {
     "elapsed": 39341,
     "status": "ok",
     "timestamp": 1521304524350,
     "user": {
      "displayName": "Вадим Березнюк",
      "photoUrl": "https://lh3.googleusercontent.com/a/default-user=s128",
      "userId": "103566387676130664775"
     },
     "user_tz": -180
    },
    "id": "XjuVbXfv4yh4",
    "outputId": "5cca2b6c-156a-4edc-dac4-b8aabca6c6be"
   },
   "outputs": [
    {
     "name": "stdout",
     "output_type": "stream",
     "text": [
      "buffer size = 50000, epsilon = 0.04566\n"
     ]
    },
    {
     "data": {
      "image/png": "iVBORw0KGgoAAAANSUhEUgAAAsYAAAEHCAYAAACtNIA5AAAABHNCSVQICAgIfAhkiAAAAAlwSFlz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\nEARBEARBAOB/ARLwtdsLbuqCAAAAAElFTkSuQmCC\n",
      "text/plain": [
       "<matplotlib.figure.Figure at 0x7fbb2ae50080>"
      ]
     },
     "metadata": {
      "tags": []
     },
     "output_type": "display_data"
    },
    {
     "name": "stderr",
     "output_type": "stream",
     "text": [
      " 78%|███████▊  | 38999/50000 [47:14<13:19, 13.76it/s]"
     ]
    },
    {
     "name": "stdout",
     "output_type": "stream",
     "text": [
      "\u001b[33mWARN: gym.spaces.Box autodetected dtype as <class 'numpy.float32'>. Please provide explicit dtype.\u001b[0m\n",
      "\u001b[33mWARN: gym.spaces.Box autodetected dtype as <class 'numpy.float32'>. Please provide explicit dtype.\u001b[0m\n"
     ]
    }
   ],
   "source": [
    "target.epsilon = 0\n",
    "\n",
    "for i in trange(5 * 10**4):\n",
    "    \n",
    "    # play\n",
    "    play_and_record(agent, env, exp_replay_agent, 10)\n",
    "    \n",
    "    # train\n",
    "    obs_batch, act_batch, reward_batch, next_obs_batch, is_done_batch = exp_replay_agent.sample(64)\n",
    "    \n",
    "    loss = compute_td_loss_double(agent, target, obs_batch, act_batch, reward_batch, next_obs_batch, is_done_batch)\n",
    "    \n",
    "    opt_agent.zero_grad()\n",
    "    loss.backward()\n",
    "    #clip_grad_norm(agent.net.parameters(), 100)\n",
    "    opt_agent.step()\n",
    "    \n",
    "    td_loss_history.append(loss.data.cpu().numpy()[0])\n",
    "    \n",
    "    # adjust agent parameters\n",
    "    if i % 500 == 0:\n",
    "        mean_rw_history.append(evaluate(make_env(), agent, n_games=3))\n",
    "        \n",
    "        if mean_rw_history[-1] > 30:\n",
    "            break\n",
    "            \n",
    "        epsilon = max(epsilon * 0.99, 0.01)\n",
    "        \n",
    "        clear_output(True)\n",
    "        print(\"buffer size = %i, epsilon = %.5f\" % (len(exp_replay_agent), epsilon))\n",
    "        plt.figure(figsize=[12, 4])        \n",
    "        plt.subplot(1,2,1)\n",
    "        plt.title(\"mean reward per game\")\n",
    "        plt.plot(mean_rw_history)\n",
    "        plt.grid(False)\n",
    "\n",
    "        assert not np.isnan(td_loss_history[-1])\n",
    "        plt.subplot(1,2,2)\n",
    "        plt.title(\"TD loss history (moving average)\")\n",
    "        plt.plot(pd.ewma(np.array(td_loss_history), span=100, min_periods=100))\n",
    "        plt.grid(False)\n",
    "        plt.show() \n",
    "        \n",
    "    if i % 100 == 0:\n",
    "        agent.epsilon = 0\n",
    "        target.epsilon = epsilon\n",
    "        \n",
    "        #Load agent weights into target_network\n",
    "        agent, target = target, agent\n",
    "        exp_replay_agent, exp_replay_target = exp_replay_target, exp_replay_agent\n",
    "        opt_agent, opt_target = opt_target, opt_agent\n"
   ]
  },
  {
   "cell_type": "code",
   "execution_count": 47,
   "metadata": {
    "colab": {
     "autoexec": {
      "startup": false,
      "wait_interval": 0
     },
     "base_uri": "https://localhost:8080/",
     "height": 34,
     "output_extras": [
      {
       "item_id": 1
      }
     ]
    },
    "colab_type": "code",
    "executionInfo": {
     "elapsed": 629,
     "status": "ok",
     "timestamp": 1521305028373,
     "user": {
      "displayName": "Вадим Березнюк",
      "photoUrl": "https://lh3.googleusercontent.com/a/default-user=s128",
      "userId": "103566387676130664775"
     },
     "user_tz": -180
    },
    "id": "v9udBWfejB2w",
    "outputId": "973c8884-d1fa-4f3b-e4b4-5202145ddfb8"
   },
   "outputs": [
    {
     "data": {
      "text/plain": [
       "31.0"
      ]
     },
     "execution_count": 47,
     "metadata": {
      "tags": []
     },
     "output_type": "execute_result"
    }
   ],
   "source": [
    "mean_rw_history[-1]"
   ]
  },
  {
   "cell_type": "code",
   "execution_count": 41,
   "metadata": {},
   "outputs": [
    {
     "name": "stderr",
     "output_type": "stream",
     "text": [
      "/home/bereznyuk/anaconda3/envs/rl/lib/python3.6/site-packages/ipykernel/__main__.py:12: FutureWarning: pd.ewm_mean is deprecated for ndarrays and will be removed in a future version\n"
     ]
    },
    {
     "data": {
      "image/png": "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\n",
      "text/plain": [
       "<matplotlib.figure.Figure at 0x7f45b34036d8>"
      ]
     },
     "metadata": {},
     "output_type": "display_data"
    },
    {
     "name": "stdout",
     "output_type": "stream",
     "text": [
      "Mean mean reward last 10 games: 17.03333333333333\n"
     ]
    }
   ],
   "source": [
    "res = torch.load('results_double.dat', map_location=lambda x, y: x)\n",
    "show_results(res['log'])"
   ]
  },
  {
   "cell_type": "markdown",
   "metadata": {
    "colab_type": "text",
    "id": "ShQYGOx_7ghF"
   },
   "source": [
    "__ How to interpret plots: __\n",
    "\n",
    "\n",
    "This aint no supervised learning so don't expect anything to improve monotonously. \n",
    "* __ TD loss __ is the MSE between agent's current Q-values and target Q-values. It may slowly increase or decrease, it's ok. The \"not ok\" behavior includes going NaN or stayng at exactly zero before agent has perfect performance.\n",
    "* __ mean reward__ is the expected sum of r(s,a) agent gets over the full game session. It will oscillate, but on average it should get higher over time (after a few thousand iterations...). \n",
    " * In basic q-learning implementation it takes 5-10k steps to \"warm up\" agent before it starts to get better.\n",
    "* __ buffer size__ - this one is simple. It should go up and cap at max size.\n",
    "* __ epsilon__ - agent's willingness to explore. If you see that agent's already at 0.01 epsilon before it's average reward is above 0 - __ it means you need to increase epsilon__. Set it back to some 0.2 - 0.5 and decrease the pace at which it goes down.\n",
    "* Also please ignore first 100-200 steps of each plot - they're just oscillations because of the way moving average works.\n",
    "\n",
    "At first your agent will lose quickly. Then it will learn to suck less and at least hit the ball a few times before it loses. Finally it will learn to actually score points.\n",
    "\n",
    "__Training will take time.__ A lot of it actually. An optimistic estimate is to say it's gonna start winning (average reward > 10) after 20k steps. \n",
    "\n",
    "But hey, look on the bright side of things:\n",
    "\n",
    "![img](https://s17.postimg.org/hy2v7r8hr/my_bot_is_training.png)"
   ]
  },
  {
   "cell_type": "markdown",
   "metadata": {
    "colab_type": "text",
    "id": "kf3D7mgJ7ghG"
   },
   "source": [
    "### Video"
   ]
  },
  {
   "cell_type": "code",
   "execution_count": 0,
   "metadata": {
    "colab": {
     "autoexec": {
      "startup": false,
      "wait_interval": 0
     }
    },
    "colab_type": "code",
    "collapsed": true,
    "id": "U0WxyvxB7ghG"
   },
   "outputs": [],
   "source": [
    "agent.epsilon=0 # Don't forget to reset epsilon back to previous value if you want to go on training"
   ]
  },
  {
   "cell_type": "code",
   "execution_count": 28,
   "metadata": {
    "colab": {
     "autoexec": {
      "startup": false,
      "wait_interval": 0
     },
     "base_uri": "https://localhost:8080/",
     "height": 102,
     "output_extras": [
      {
       "item_id": 1
      },
      {
       "item_id": 2
      },
      {
       "item_id": 4
      }
     ]
    },
    "colab_type": "code",
    "executionInfo": {
     "elapsed": 35596,
     "status": "ok",
     "timestamp": 1521305082206,
     "user": {
      "displayName": "Вадим Березнюк",
      "photoUrl": "https://lh3.googleusercontent.com/a/default-user=s128",
      "userId": "103566387676130664775"
     },
     "user_tz": -180
    },
    "id": "UUcYS5xd7ghJ",
    "outputId": "08171e97-7e36-494f-c421-bcfc46b360ca"
   },
   "outputs": [],
   "source": [
    "#record sessions\n",
    "import gym.wrappers\n",
    "env.reset()\n",
    "env_monitor = gym.wrappers.Monitor(make_env(),directory=\"videos\",force=True)\n",
    "sessions = [evaluate(env_monitor, agent, n_games=1) for _ in range(10)]\n",
    "env_monitor.close()"
   ]
  },
  {
   "cell_type": "markdown",
   "metadata": {},
   "source": [
    "# Примеры игры"
   ]
  },
  {
   "cell_type": "code",
   "execution_count": 18,
   "metadata": {
    "colab": {
     "autoexec": {
      "startup": false,
      "wait_interval": 0
     },
     "base_uri": "https://localhost:8080/",
     "height": 501,
     "output_extras": [
      {
       "item_id": 1
      }
     ],
     "resources": {
      "http://localhost:8080/videos/openaigym.video.0.1097.video000000.mp4": {
       "data": "CjwhRE9DVFlQRSBodG1sPgo8aHRtbCBsYW5nPWVuPgogIDxtZXRhIGNoYXJzZXQ9dXRmLTg+CiAgPG1ldGEgbmFtZT12aWV3cG9ydCBjb250ZW50PSJpbml0aWFsLXNjYWxlPTEsIG1pbmltdW0tc2NhbGU9MSwgd2lkdGg9ZGV2aWNlLXdpZHRoIj4KICA8dGl0bGU+RXJyb3IgNDA0IChOb3QgRm91bmQpISExPC90aXRsZT4KICA8c3R5bGU+CiAgICAqe21hcmdpbjowO3BhZGRpbmc6MH1odG1sLGNvZGV7Zm9udDoxNXB4LzIycHggYXJpYWwsc2Fucy1zZXJpZn1odG1se2JhY2tncm91bmQ6I2ZmZjtjb2xvcjojMjIyO3BhZGRpbmc6MTVweH1ib2R5e21hcmdpbjo3JSBhdXRvIDA7bWF4LXdpZHRoOjM5MHB4O21pbi1oZWlnaHQ6MTgwcHg7cGFkZGluZzozMHB4IDAgMTVweH0qID4gYm9keXtiYWNrZ3JvdW5kOnVybCgvL3d3dy5nb29nbGUuY29tL2ltYWdlcy9lcnJvcnMvcm9ib3QucG5nKSAxMDAlIDVweCBuby1yZXBlYXQ7cGFkZGluZy1yaWdodDoyMDVweH1we21hcmdpbjoxMXB4IDAgMjJweDtvdmVyZmxvdzpoaWRkZW59aW5ze2NvbG9yOiM3Nzc7dGV4dC1kZWNvcmF0aW9uOm5vbmV9YSBpbWd7Ym9yZGVyOjB9QG1lZGlhIHNjcmVlbiBhbmQgKG1heC13aWR0aDo3NzJweCl7Ym9keXtiYWNrZ3JvdW5kOm5vbmU7bWFyZ2luLXRvcDowO21heC13aWR0aDpub25lO3BhZGRpbmctcmlnaHQ6MH19I2xvZ297YmFja2dyb3VuZDp1cmwoLy93d3cuZ29vZ2xlLmNvbS9pbWFnZXMvbG9nb3MvZXJyb3JwYWdlL2Vycm9yX2xvZ28tMTUweDU0LnBuZykgbm8tcmVwZWF0O21hcmdpbi1sZWZ0Oi01cHh9QG1lZGlhIG9ubHkgc2NyZWVuIGFuZCAobWluLXJlc29sdXRpb246MTkyZHBpKXsjbG9nb3tiYWNrZ3JvdW5kOnVybCgvL3d3dy5nb29nbGUuY29tL2ltYWdlcy9sb2dvcy9lcnJvcnBhZ2UvZXJyb3JfbG9nby0xNTB4NTQtMngucG5nKSBuby1yZXBlYXQgMCUgMCUvMTAwJSAxMDAlOy1tb3otYm9yZGVyLWltYWdlOnVybCgvL3d3dy5nb29nbGUuY29tL2ltYWdlcy9sb2dvcy9lcnJvcnBhZ2UvZXJyb3JfbG9nby0xNTB4NTQtMngucG5nKSAwfX1AbWVkaWEgb25seSBzY3JlZW4gYW5kICgtd2Via2l0LW1pbi1kZXZpY2UtcGl4ZWwtcmF0aW86Mil7I2xvZ297YmFja2dyb3VuZDp1cmwoLy93d3cuZ29vZ2xlLmNvbS9pbWFnZXMvbG9nb3MvZXJyb3JwYWdlL2Vycm9yX2xvZ28tMTUweDU0LTJ4LnBuZykgbm8tcmVwZWF0Oy13ZWJraXQtYmFja2dyb3VuZC1zaXplOjEwMCUgMTAwJX19I2xvZ297ZGlzcGxheTppbmxpbmUtYmxvY2s7aGVpZ2h0OjU0cHg7d2lkdGg6MTUwcHh9CiAgPC9zdHlsZT4KICA8YSBocmVmPS8vd3d3Lmdvb2dsZS5jb20vPjxzcGFuIGlkPWxvZ28gYXJpYS1sYWJlbD1Hb29nbGU+PC9zcGFuPjwvYT4KICA8cD48Yj40MDQuPC9iPiA8aW5zPlRoYXTigJlzIGFuIGVycm9yLjwvaW5zPgogIDxwPiAgPGlucz5UaGF04oCZcyBhbGwgd2Uga25vdy48L2lucz4K",
       "headers": [
        [
         "content-length",
         "1449"
        ],
        [
         "content-type",
         "text/html; charset=utf-8"
        ]
       ],
       "ok": false,
       "status": 404,
       "status_text": ""
      }
     }
    },
    "colab_type": "code",
    "executionInfo": {
     "elapsed": 589,
     "status": "ok",
     "timestamp": 1521022038743,
     "user": {
      "displayName": "Вадим Березнюк",
      "photoUrl": "https://lh3.googleusercontent.com/a/default-user=s128",
      "userId": "103566387676130664775"
     },
     "user_tz": -180
    },
    "id": "lOFs8w_37ghL",
    "outputId": "15654328-115c-4f0c-d5c6-480798f32223"
   },
   "outputs": [],
   "source": [
    "#show video\n",
    "from IPython.display import HTML\n",
    "import os\n",
    "\n",
    "def show_video(fname):\n",
    "    return HTML(\"\"\"\n",
    "           <video width=\"240\" height=\"320\" controls>\n",
    "             <source src=\"{}\" type=\"video/mp4\">\n",
    "           </video>\n",
    "           \"\"\".format(\"./videos/{}\".format(fname))) #this may or may not be _last_ video. Try other indices"
   ]
  },
  {
   "cell_type": "markdown",
   "metadata": {},
   "source": [
    "### DQN\n",
    "\n",
    "Первые шаги"
   ]
  },
  {
   "cell_type": "code",
   "execution_count": 19,
   "metadata": {},
   "outputs": [
    {
     "data": {
      "text/html": [
       "\n",
       "           <video width=\"240\" height=\"320\" controls>\n",
       "             <source src=\"./videos/1.1.mp4\" type=\"video/mp4\">\n",
       "           </video>\n",
       "           "
      ],
      "text/plain": [
       "<IPython.core.display.HTML object>"
      ]
     },
     "execution_count": 19,
     "metadata": {},
     "output_type": "execute_result"
    }
   ],
   "source": [
    "show_video('1.1.mp4')"
   ]
  },
  {
   "cell_type": "markdown",
   "metadata": {},
   "source": [
    "Агент научился выбивать более глубокие блоки за счёт ускорения"
   ]
  },
  {
   "cell_type": "code",
   "execution_count": 20,
   "metadata": {},
   "outputs": [
    {
     "data": {
      "text/html": [
       "\n",
       "           <video width=\"240\" height=\"320\" controls>\n",
       "             <source src=\"./videos/1.2.mp4\" type=\"video/mp4\">\n",
       "           </video>\n",
       "           "
      ],
      "text/plain": [
       "<IPython.core.display.HTML object>"
      ]
     },
     "execution_count": 20,
     "metadata": {},
     "output_type": "execute_result"
    }
   ],
   "source": [
    "show_video('1.2.mp4')"
   ]
  },
  {
   "cell_type": "markdown",
   "metadata": {},
   "source": [
    "Вернулся к более спокойному стилю"
   ]
  },
  {
   "cell_type": "code",
   "execution_count": 26,
   "metadata": {},
   "outputs": [
    {
     "data": {
      "text/html": [
       "\n",
       "           <video width=\"240\" height=\"320\" controls>\n",
       "             <source src=\"./videos/1.3.mp4\" type=\"video/mp4\">\n",
       "           </video>\n",
       "           "
      ],
      "text/plain": [
       "<IPython.core.display.HTML object>"
      ]
     },
     "execution_count": 26,
     "metadata": {},
     "output_type": "execute_result"
    }
   ],
   "source": [
    "show_video('1.3.mp4')"
   ]
  },
  {
   "cell_type": "markdown",
   "metadata": {},
   "source": [
    "### Double-DQN"
   ]
  },
  {
   "cell_type": "code",
   "execution_count": 22,
   "metadata": {},
   "outputs": [
    {
     "data": {
      "text/html": [
       "\n",
       "           <video width=\"240\" height=\"320\" controls>\n",
       "             <source src=\"./videos/2.1.mp4\" type=\"video/mp4\">\n",
       "           </video>\n",
       "           "
      ],
      "text/plain": [
       "<IPython.core.display.HTML object>"
      ]
     },
     "execution_count": 22,
     "metadata": {},
     "output_type": "execute_result"
    }
   ],
   "source": [
    "show_video('2.1.mp4')"
   ]
  },
  {
   "cell_type": "markdown",
   "metadata": {},
   "source": [
    "Агент разучился перезапускать игру в случае потери шарика, поэтому ему пришлось поставить epsilon=0.01. Интересно, что играет он при этом весьма неплохо (набирает целых 45 очков)."
   ]
  },
  {
   "cell_type": "code",
   "execution_count": 27,
   "metadata": {},
   "outputs": [
    {
     "data": {
      "text/html": [
       "\n",
       "           <video width=\"240\" height=\"320\" controls>\n",
       "             <source src=\"./videos/2.2.mp4\" type=\"video/mp4\">\n",
       "           </video>\n",
       "           "
      ],
      "text/plain": [
       "<IPython.core.display.HTML object>"
      ]
     },
     "execution_count": 27,
     "metadata": {},
     "output_type": "execute_result"
    }
   ],
   "source": [
    "show_video('2.2.mp4')"
   ]
  },
  {
   "cell_type": "code",
   "execution_count": 24,
   "metadata": {},
   "outputs": [
    {
     "data": {
      "text/html": [
       "\n",
       "           <video width=\"240\" height=\"320\" controls>\n",
       "             <source src=\"./videos/2.3.mp4\" type=\"video/mp4\">\n",
       "           </video>\n",
       "           "
      ],
      "text/plain": [
       "<IPython.core.display.HTML object>"
      ]
     },
     "execution_count": 24,
     "metadata": {},
     "output_type": "execute_result"
    }
   ],
   "source": [
    "show_video('2.3.mp4')"
   ]
  },
  {
   "cell_type": "markdown",
   "metadata": {
    "colab_type": "text",
    "id": "md0OKY_t7ghN"
   },
   "source": [
    "## Assignment part I (5 pts)\n",
    "\n",
    "We'll start by implementing target network to stabilize training.\n",
    "\n",
    "To do that you should use TensorFlow functionality. \n",
    "\n",
    "We recommend thoroughly debugging your code on simple tests before applying it in atari dqn."
   ]
  },
  {
   "cell_type": "markdown",
   "metadata": {
    "colab_type": "text",
    "id": "2GnVRZn37ghS"
   },
   "source": [
    "## Bonus I (2+ pts)\n",
    "\n",
    "Implement and train double q-learning.\n",
    "\n",
    "This task contains of\n",
    "* Implementing __double q-learning__ or __dueling q-learning__ or both (see tips below)\n",
    "* Training a network till convergence\n",
    "  * Full points will be awarded if your network gets average score of >=10 (see \"evaluating results\")\n",
    "  * Higher score = more points as usual\n",
    "  * If you're running out of time, it's okay to submit a solution that hasn't converged yet and updating it when it converges. _Lateness penalty will not increase for second submission_, so submitting first one in time gets you no penalty.\n",
    "\n",
    "\n",
    "#### Tips:\n",
    "* Implementing __double q-learning__ shouldn't be a problem if you've already have target networks in place.\n",
    "  * You will probably need `tf.argmax` to select best actions\n",
    "  * Here's an original [article](https://arxiv.org/abs/1509.06461)\n",
    "\n",
    "* __Dueling__ architecture is also quite straightforward if you have standard DQN.\n",
    "  * You will need to change network architecture, namely the q-values layer\n",
    "  * It must now contain two heads: V(s) and A(s,a), both dense layers\n",
    "  * You should then add them up via elemwise sum layer.\n",
    "  * Here's an [article](https://arxiv.org/pdf/1511.06581.pdf)"
   ]
  },
  {
   "cell_type": "markdown",
   "metadata": {
    "colab_type": "text",
    "id": "PHXyZyfA7ghU"
   },
   "source": [
    "## Bonus II (5+ pts): Prioritized experience replay\n",
    "\n",
    "In this section, you're invited to implement prioritized experience replay\n",
    "\n",
    "* You will probably need to provide a custom data structure\n",
    "* Once pool.update is called, collect the pool.experience_replay.observations, actions, rewards and is_alive and store them in your data structure\n",
    "* You can now sample such transitions in proportion to the error (see [article](https://arxiv.org/abs/1511.05952)) for training.\n",
    "\n",
    "It's probably more convenient to explicitly declare inputs for \"sample observations\", \"sample actions\" and so on to plug them into q-learning.\n",
    "\n",
    "Prioritized (and even normal) experience replay should greatly reduce amount of game sessions you need to play in order to achieve good performance. \n",
    "\n",
    "While it's effect on runtime is limited for atari, more complicated envs (further in the course) will certainly benefit for it.\n",
    "\n",
    "Prioritized experience replay only supports off-policy algorithms, so pls enforce `n_steps=1` in your q-learning reference computation (default is 10)."
   ]
  },
  {
   "cell_type": "code",
   "execution_count": 0,
   "metadata": {
    "colab": {
     "autoexec": {
      "startup": false,
      "wait_interval": 0
     }
    },
    "colab_type": "code",
    "collapsed": true,
    "id": "Tu2PYMph7ghV"
   },
   "outputs": [],
   "source": [
    "from tqdm import trange\n",
    "from IPython.display import clear_output\n",
    "import matplotlib.pyplot as plt\n",
    "from pandas import ewma\n",
    "%matplotlib inline\n",
    "\n",
    "env = make_env()\n",
    "env.reset()\n",
    "n_actions = env.action_space.n\n",
    "state_dim = env.observation_space.shape\n",
    "\n",
    "agent = DQNAgent(state_dim, n_actions, epsilon=0.8)\n",
    "target_network = DQNAgent(state_dim, n_actions)\n",
    "target_network.load_state_dict(agent.state_dict())\n",
    "\n",
    "mean_rw_history = []\n",
    "td_loss_history = []"
   ]
  }
 ],
 "metadata": {
  "accelerator": "GPU",
  "colab": {
   "collapsed_sections": [],
   "default_view": {},
   "name": "homework_pytorch.ipynb",
   "provenance": [],
   "version": "0.3.2",
   "views": {}
  },
  "kernelspec": {
   "display_name": "Python [conda env:rl]",
   "language": "python",
   "name": "conda-env-rl-py"
  },
  "language_info": {
   "codemirror_mode": {
    "name": "ipython",
    "version": 3
   },
   "file_extension": ".py",
   "mimetype": "text/x-python",
   "name": "python",
   "nbconvert_exporter": "python",
   "pygments_lexer": "ipython3",
   "version": "3.6.4"
  }
 },
 "nbformat": 4,
 "nbformat_minor": 1
}
